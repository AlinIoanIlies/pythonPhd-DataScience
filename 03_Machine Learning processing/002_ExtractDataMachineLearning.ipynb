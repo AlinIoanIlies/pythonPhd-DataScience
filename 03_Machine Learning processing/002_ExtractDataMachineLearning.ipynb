{
 "cells": [
  {
   "cell_type": "code",
   "execution_count": 1,
   "id": "6d026578",
   "metadata": {},
   "outputs": [],
   "source": [
    "import pandas as pd\n",
    "import numpy as np\n",
    "import matplotlib.pyplot as plt\n",
    "%matplotlib inline\n",
    "import seaborn as sns\n",
    "import os\n",
    "\n",
    "import path\n",
    "import math\n",
    "import cmath\n",
    "import shutil\n",
    "import pywt\n",
    "import csv"
   ]
  },
  {
   "cell_type": "code",
   "execution_count": 2,
   "id": "5c441d54",
   "metadata": {},
   "outputs": [],
   "source": [
    "fileName = 'Cycle_10.txt'\n",
    "inputDir = 'studied_columns_all'"
   ]
  },
  {
   "cell_type": "code",
   "execution_count": 3,
   "id": "9e2552a4",
   "metadata": {},
   "outputs": [],
   "source": [
    "def MergeLists(l1, l2):\n",
    "    if len(l1)>0:\n",
    "        l1_copy = list(l1).copy()\n",
    "        l2_copy = list(l2).copy()\n",
    "        l4 = list()\n",
    "        for el in range(len(l2)):\n",
    "            a1 = l1[el].copy()\n",
    "            a2 = l2[el].copy()\n",
    "            a1.extend(a2)\n",
    "            l4.append(a1)\n",
    "    else:\n",
    "        l4 = l2.copy()\n",
    "    return l4"
   ]
  },
  {
   "cell_type": "code",
   "execution_count": 4,
   "id": "868e1d18",
   "metadata": {},
   "outputs": [],
   "source": [
    "def readSingleFile(fileName, inputDir=\"ReadFiles\"):\n",
    "    result = \"\"\n",
    "    if (fileName!=\"\"):\n",
    "        fileDir = os.path.join(os.path.join(os.getcwd(),inputDir),fileName)\n",
    "        try:\n",
    "            with open(fileDir,'r') as p:\n",
    "                result=p.readlines()\n",
    "        except:\n",
    "            print('file not found')\n",
    "            result = \"\"\n",
    "    return result\n",
    "\n",
    "def extractSingleData(fileName, inputDir=\"ReadFiles\"):\n",
    "    string_data = readSingleFile(fileName, inputDir)\n",
    "    result = list()\n",
    "    for _el in string_data:\n",
    "        var = _el.replace('\\n','')\n",
    "        if (var != ''):\n",
    "            aux = (var.split('\\t'))\n",
    "            aux2 = list()\n",
    "            for _e in aux:\n",
    "                try:\n",
    "                    a = float(_e)\n",
    "                except:\n",
    "                    a = _e\n",
    "                aux2.append(a)\n",
    "            result.append(aux2)\n",
    "    return result\n",
    "\n",
    "def splitDataSingleFile_v1(inputName, inputDir=\"ReadFiles\"):\n",
    "    data = extractSingleData(inputName, inputDir)\n",
    "    list1 = [['Value',int(inputName.replace('.txt','').replace('Cycle_',''))]]\n",
    "    list2 = [['COEFFICIENT',int(inputName.replace('.txt','').replace('Cycle_',''))]]\n",
    "    _c = inputName.replace('.txt','').replace('Cycle_','') + '_'\n",
    "    list3 = [[_c+'i', _c+'Value', _c+'Prediction', _c+'Error']]\n",
    "    list1.extend(data[0:data.index(['COEFFICIENT'])])\n",
    "    list2.extend(data[data.index(['COEFFICIENT']) + 1 : data.index(['i', 'Value', 'Prediction', 'Error'])])\n",
    "    list3.extend(data[data.index(['i', 'Value', 'Prediction', 'Error']) + 1 : ])\n",
    "    return (list1, list2, list3)\n",
    "def ExportMultipleFileDataFrame(inputDir=\"ReadFiles\", outputfile=\"Outputfile\", outputdir=\"Output\"):\n",
    "    result_list1 = list()\n",
    "    result_list2 = list()\n",
    "    result_list3 = list()\n",
    "    for folder,sub_folder,files in os.walk(os.path.join(os.getcwd(),inputDir)):\n",
    "        for _nume in files:\n",
    "            #print(_nume)\n",
    "            aux = splitDataSingleFile_v1(_nume, inputDir)\n",
    "            #result_list1.extend(aux[0])\n",
    "            #result_list2.extend(aux[1])\n",
    "            #result_list3.extend(aux[2])\n",
    "            result_list1 = MergeLists(result_list1, aux[0])\n",
    "            result_list2 = MergeLists(result_list2, aux[1])\n",
    "            result_list3 = MergeLists(result_list3, aux[2])\n",
    "    data1 = pd.DataFrame.from_records(result_list1[1:], columns=result_list1[0])\n",
    "    data2 = pd.DataFrame.from_records(result_list2[1:], columns=result_list2[0])\n",
    "    data3 = pd.DataFrame.from_records(result_list3[1:], columns=result_list3[0])\n",
    "    isExist = os.path.exists(outputdir)\n",
    "    if not isExist:\n",
    "        os.makedirs(outputdir)\n",
    "    outputDir1 = os.path.join(os.path.join(os.getcwd(), outputdir), outputfile + '_Metrics.csv')\n",
    "    outputDir2 = os.path.join(os.path.join(os.getcwd(), outputdir), outputfile + '_Coefficeints.csv')\n",
    "    outputDir3 = os.path.join(os.path.join(os.getcwd(), outputdir), outputfile + '_Prediction.csv')\n",
    "    data1.to_csv(outputDir1)\n",
    "    data2.to_csv(outputDir2)\n",
    "    data3.to_csv(outputDir3)\n",
    "\n",
    "def splitDataSingleFile_v2(inputName, inputDir=\"ReadFiles\"):\n",
    "    data = extractSingleData(inputName, inputDir)\n",
    "    list1 = [['Value',int(inputName.replace('.txt','').replace('Cycle_',''))]]\n",
    "    _c = inputName.replace('.txt','').replace('Cycle_','') + '_'\n",
    "    list2 = [[_c+'i', _c+'Value', _c+'Prediction', _c+'Error']]\n",
    "    list1.extend(data[0:data.index(['i', 'Value', 'Prediction', 'Error'])])\n",
    "    list2.extend(data[data.index(['i', 'Value', 'Prediction', 'Error']) + 1 : ])\n",
    "    return (list1, list2)\n",
    "def ExportMultipleFileDataFrame_v2(inputDir=\"ReadFiles\", outputfile=\"Outputfile\", outputdir=\"Output\"):\n",
    "    result_list1 = list()\n",
    "    result_list2 = list()\n",
    "    for folder,sub_folder,files in os.walk(os.path.join(os.getcwd(),inputDir)):\n",
    "        for _nume in files:\n",
    "            #print(_nume)\n",
    "            aux = splitDataSingleFile_v2(_nume, inputDir)\n",
    "            #result_list1.extend(aux[0])\n",
    "            #result_list2.extend(aux[1])\n",
    "            #result_list3.extend(aux[2])\n",
    "            result_list1 = MergeLists(result_list1, aux[0])\n",
    "            result_list2 = MergeLists(result_list2, aux[1])\n",
    "    data1 = pd.DataFrame.from_records(result_list1[1:], columns=result_list1[0])\n",
    "    data2 = pd.DataFrame.from_records(result_list2[1:], columns=result_list2[0])\n",
    "    isExist = os.path.exists(outputdir)\n",
    "    if not isExist:\n",
    "        os.makedirs(outputdir)\n",
    "    outputDir1 = os.path.join(os.path.join(os.getcwd(), outputdir), outputfile + '_Metrics.csv')\n",
    "    outputDir2 = os.path.join(os.path.join(os.getcwd(), outputdir), outputfile + '_Prediction.csv')\n",
    "    data1.to_csv(outputDir1)\n",
    "    data2.to_csv(outputDir2)"
   ]
  },
  {
   "cell_type": "code",
   "execution_count": 17,
   "id": "a139ee19",
   "metadata": {},
   "outputs": [],
   "source": [
    "_outputdir = '2_ordin_scaled_data_normal'"
   ]
  },
  {
   "cell_type": "code",
   "execution_count": 18,
   "id": "19f94ba9",
   "metadata": {},
   "outputs": [],
   "source": [
    "ExportMultipleFileDataFrame(inputDir='firstArmonic_columns_all', outputfile='firstArmonic_columns_all', outputdir=_outputdir)\n",
    "ExportMultipleFileDataFrame(inputDir='firstArmonic_columns_consumator', outputfile='firstArmonic_columns_consumator', outputdir=_outputdir)\n",
    "ExportMultipleFileDataFrame(inputDir='firstArmonic_columns_generator', outputfile='firstArmonic_columns_generator', outputdir=_outputdir)\n",
    "ExportMultipleFileDataFrame(inputDir='studied_columns_all', outputfile='studied_columns_all', outputdir=_outputdir)\n",
    "ExportMultipleFileDataFrame(inputDir='studied_columns_consumator', outputfile='studied_columns_consumator', outputdir=_outputdir)\n",
    "ExportMultipleFileDataFrame(inputDir='studied_columns_generator', outputfile='studied_columns_generator', outputdir=_outputdir)"
   ]
  },
  {
   "cell_type": "code",
   "execution_count": null,
   "id": "0aadad1e",
   "metadata": {},
   "outputs": [],
   "source": []
  },
  {
   "cell_type": "code",
   "execution_count": null,
   "id": "0f5a8999",
   "metadata": {},
   "outputs": [],
   "source": []
  },
  {
   "cell_type": "code",
   "execution_count": null,
   "id": "f2f281e8",
   "metadata": {},
   "outputs": [],
   "source": []
  },
  {
   "cell_type": "code",
   "execution_count": null,
   "id": "876be11a",
   "metadata": {},
   "outputs": [],
   "source": []
  },
  {
   "cell_type": "code",
   "execution_count": null,
   "id": "86dbf7c2",
   "metadata": {},
   "outputs": [],
   "source": []
  },
  {
   "cell_type": "code",
   "execution_count": null,
   "id": "a2610401",
   "metadata": {},
   "outputs": [],
   "source": []
  },
  {
   "cell_type": "code",
   "execution_count": null,
   "id": "9ca862c0",
   "metadata": {},
   "outputs": [],
   "source": []
  },
  {
   "cell_type": "code",
   "execution_count": null,
   "id": "5eead8c7",
   "metadata": {},
   "outputs": [],
   "source": []
  },
  {
   "cell_type": "code",
   "execution_count": null,
   "id": "cc5bee87",
   "metadata": {},
   "outputs": [],
   "source": []
  },
  {
   "cell_type": "code",
   "execution_count": null,
   "id": "0b62353e",
   "metadata": {},
   "outputs": [],
   "source": []
  },
  {
   "cell_type": "code",
   "execution_count": null,
   "id": "2256eaf3",
   "metadata": {},
   "outputs": [],
   "source": []
  },
  {
   "cell_type": "code",
   "execution_count": null,
   "id": "e0758184",
   "metadata": {},
   "outputs": [],
   "source": []
  },
  {
   "cell_type": "code",
   "execution_count": null,
   "id": "283aeb6a",
   "metadata": {},
   "outputs": [],
   "source": []
  },
  {
   "cell_type": "code",
   "execution_count": null,
   "id": "a0b8c3e7",
   "metadata": {},
   "outputs": [],
   "source": []
  }
 ],
 "metadata": {
  "kernelspec": {
   "display_name": "Python 3 (ipykernel)",
   "language": "python",
   "name": "python3"
  },
  "language_info": {
   "codemirror_mode": {
    "name": "ipython",
    "version": 3
   },
   "file_extension": ".py",
   "mimetype": "text/x-python",
   "name": "python",
   "nbconvert_exporter": "python",
   "pygments_lexer": "ipython3",
   "version": "3.9.7"
  }
 },
 "nbformat": 4,
 "nbformat_minor": 5
}
