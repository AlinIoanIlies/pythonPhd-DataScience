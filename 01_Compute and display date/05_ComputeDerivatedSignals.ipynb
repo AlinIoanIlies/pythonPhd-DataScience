{
 "cells": [
  {
   "cell_type": "code",
   "execution_count": 1,
   "id": "3d8886ea",
   "metadata": {},
   "outputs": [],
   "source": [
    "import pandas as pd\n",
    "import numpy as np\n",
    "import matplotlib.pyplot as plt\n",
    "%matplotlib inline\n",
    "import seaborn as sns\n",
    "import os"
   ]
  },
  {
   "cell_type": "code",
   "execution_count": 2,
   "id": "66d33b01",
   "metadata": {},
   "outputs": [],
   "source": [
    "data_normal = pd.read_csv('Save_Normal_data.csv')\n",
    "scaled_data_normal = pd.read_csv('Save_Normal_data_SCALED.csv')\n",
    "scaled_fac = pd.read_csv('Normal_Scaled_Factor.csv')"
   ]
  },
  {
   "cell_type": "code",
   "execution_count": 3,
   "id": "9c4b9e2e",
   "metadata": {},
   "outputs": [],
   "source": [
    "listIdSimulare = list(data_normal[\"ID_Simulare\"].unique())"
   ]
  },
  {
   "cell_type": "code",
   "execution_count": 4,
   "id": "499f8966",
   "metadata": {},
   "outputs": [],
   "source": [
    "dataColumn = list(data_normal.columns)[11:]\n",
    "allColumn = list(data_normal.columns)"
   ]
  },
  {
   "cell_type": "code",
   "execution_count": 5,
   "id": "14a14199",
   "metadata": {},
   "outputs": [],
   "source": [
    "def derivateDataFrame_cycle(data_frame, all_columns, data_columns, List_Id_Simulare, _ignore_cycle = 0 ):\n",
    "    final = list([all_columns])\n",
    "    _data = data_frame\n",
    "    for _id in List_Id_Simulare:\n",
    "        aux = _data[_data[\"ID_Simulare\"]==_id]\n",
    "        for index in aux.index.to_list():\n",
    "            if (aux.at[index, \"cycle\"] != _ignore_cycle):\n",
    "                # not copying cycle 0\n",
    "                result_row = list()\n",
    "                for _col in all_columns:\n",
    "                    if _col in data_columns:\n",
    "                        _aux = (aux.at[index, _col] - aux.at[index - 1, _col])/(aux.at[index, \"cycle\"] - aux.at[index - 1, \"cycle\"])\n",
    "                        result_row.append(_aux)\n",
    "                    else:\n",
    "                        result_row.append(aux.at[index, _col])\n",
    "                final.append(result_row)\n",
    "    return pd.DataFrame(final[1:], columns = final[0])"
   ]
  },
  {
   "cell_type": "code",
   "execution_count": 6,
   "id": "2e579c50",
   "metadata": {},
   "outputs": [],
   "source": [
    "data_normal_dericate_1 = derivateDataFrame_cycle(data_normal, allColumn, dataColumn, listIdSimulare, 0)"
   ]
  },
  {
   "cell_type": "code",
   "execution_count": 7,
   "id": "5c0ebcc4",
   "metadata": {},
   "outputs": [],
   "source": [
    "scaled_data_normal_dericate_1 = derivateDataFrame_cycle(scaled_data_normal, allColumn, dataColumn, listIdSimulare, 0)"
   ]
  },
  {
   "cell_type": "code",
   "execution_count": 11,
   "id": "44a91399",
   "metadata": {},
   "outputs": [],
   "source": [
    "data_normal_dericate_2 = derivateDataFrame_cycle(data_normal_dericate_1, allColumn, dataColumn, listIdSimulare, 1)"
   ]
  },
  {
   "cell_type": "code",
   "execution_count": 12,
   "id": "bebf9b38",
   "metadata": {},
   "outputs": [],
   "source": [
    "scaled_data_normal_dericate_2 = derivateDataFrame_cycle(scaled_data_normal_dericate_1, allColumn, dataColumn, listIdSimulare, 1)"
   ]
  },
  {
   "cell_type": "code",
   "execution_count": 13,
   "id": "5399b303",
   "metadata": {},
   "outputs": [],
   "source": [
    "data_normal_dericate_1.to_csv('Save_Normal_data_Derivate1.csv')\n",
    "data_normal_dericate_2.to_csv('Save_Normal_data_Derivate2.csv')\n",
    "\n",
    "scaled_data_normal_dericate_1.to_csv('Save_Normal_data_SCALED_Derivate1.csv')\n",
    "scaled_data_normal_dericate_2.to_csv('Save_Normal_data_SCALED_Derivate2.csv')"
   ]
  },
  {
   "cell_type": "code",
   "execution_count": null,
   "id": "eb586e16",
   "metadata": {},
   "outputs": [],
   "source": []
  },
  {
   "cell_type": "code",
   "execution_count": null,
   "id": "ca59da4a",
   "metadata": {},
   "outputs": [],
   "source": []
  },
  {
   "cell_type": "code",
   "execution_count": null,
   "id": "5829f05f",
   "metadata": {},
   "outputs": [],
   "source": []
  },
  {
   "cell_type": "code",
   "execution_count": null,
   "id": "5234e687",
   "metadata": {},
   "outputs": [],
   "source": []
  },
  {
   "cell_type": "code",
   "execution_count": null,
   "id": "d7ab6ce6",
   "metadata": {},
   "outputs": [],
   "source": []
  }
 ],
 "metadata": {
  "kernelspec": {
   "display_name": "Python 3 (ipykernel)",
   "language": "python",
   "name": "python3"
  },
  "language_info": {
   "codemirror_mode": {
    "name": "ipython",
    "version": 3
   },
   "file_extension": ".py",
   "mimetype": "text/x-python",
   "name": "python",
   "nbconvert_exporter": "python",
   "pygments_lexer": "ipython3",
   "version": "3.9.7"
  }
 },
 "nbformat": 4,
 "nbformat_minor": 5
}
