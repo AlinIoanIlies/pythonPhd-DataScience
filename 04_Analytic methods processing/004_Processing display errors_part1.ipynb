{
 "cells": [
  {
   "cell_type": "code",
   "execution_count": null,
   "id": "2f3de3c3",
   "metadata": {},
   "outputs": [],
   "source": [
    "import cmath\n",
    "import math\n",
    "import numpy as np\n",
    "import pandas as pd\n",
    "import numpy as np\n",
    "import matplotlib.pyplot as plt\n",
    "%matplotlib inline\n",
    "import seaborn as sns\n",
    "import os\n",
    "from sklearn import metrics\n"
   ]
  },
  {
   "cell_type": "code",
   "execution_count": null,
   "id": "a0794746",
   "metadata": {},
   "outputs": [],
   "source": [
    "data_normal = pd.read_excel('Rezultate_v2.xlsx',sheet_name='errors')"
   ]
  },
  {
   "cell_type": "code",
   "execution_count": null,
   "id": "e7e13165",
   "metadata": {},
   "outputs": [],
   "source": [
    "cols=[\"Mean_Absolute_Error\",\"Mean_Squared_Error\",\"Root_Mean_Squared_Error\"]"
   ]
  },
  {
   "cell_type": "code",
   "execution_count": null,
   "id": "027609a6",
   "metadata": {},
   "outputs": [],
   "source": [
    "list_phase = list(data_normal[\"Phase\"].unique())\n",
    "list_cycle = list(data_normal[\"Cycle\"].unique())\n",
    "list_name_models = list(data_normal[\"Model\"].unique())\n",
    "list_Z = list(data_normal[\"Z\"].unique())"
   ]
  },
  {
   "cell_type": "code",
   "execution_count": null,
   "id": "44d42b7e",
   "metadata": {},
   "outputs": [],
   "source": [
    "list_models_1 = [ [[\"cuadripol\",\"cuadripol_Determin_Minim_F1\", \"Z_line_MutualCombinedWithLineParameter\"],\n",
    "[\"cuadripol\",\"cuadripol_Determin_Minim_F2\", \"Z_line_MutualCombinedWithLineParameter\"],\n",
    "[\"cuadripol\",\"SD_cuadripol_Determin_Minim_F1\", \"Z_DirectSecvence\"],\n",
    "[\"cuadripol\",\"SD_cuadripol_Determin_Minim_F2\", \"Z_DirectSecvence\"],\n",
    "[\"cuadripol\",\"SH_cuadripol_Determin_Minim_F1\", \"Z_HomopolarSecvence\"],\n",
    "[\"cuadripol\",\"SH_cuadripol_Determin_Minim_F2\", \"Z_HomopolarSecvence\"],\n",
    "[\"cuadripol\",\"val_cuadripol_Determin_Minim_F1\", \"Z_value_MutualNotConsindered\"],\n",
    "[\"cuadripol\",\"val_cuadripol_Determin_Minim_F2\", \"Z_value_MutualNotConsindered\"]], \n",
    "\n",
    "[[\"TransmissionWaves_Minim_F1_F2\",\"_transmissionWaves_Determin_Minim_F1\", \"Z_line_MutualCombinedWithLineParameter\"],\n",
    "[\"TransmissionWaves_Minim_F1_F2\",\"_transmissionWaves_Determin_Minim_F2\", \"Z_line_MutualCombinedWithLineParameter\"],\n",
    "[\"TransmissionWaves_Minim_F1_F2\",\"SD_transmissionWaves_Determin_Minim_F1\", \"Z_DirectSecvence\"],\n",
    "[\"TransmissionWaves_Minim_F1_F2\",\"SD_transmissionWaves_Determin_Minim_F2\", \"Z_DirectSecvence\"],\n",
    "[\"TransmissionWaves_Minim_F1_F2\",\"SH_transmissionWaves_Determin_Minim_F1\", \"Z_HomopolarSecvence\"],\n",
    "[\"TransmissionWaves_Minim_F1_F2\",\"SH_transmissionWaves_Determin_Minim_F2\", \"Z_HomopolarSecvence\"],\n",
    "[\"TransmissionWaves_Minim_F1_F2\",\"val_transmissionWaves_Determin_Minim_F1\", \"Z_value_MutualNotConsindered\"],\n",
    "[\"TransmissionWaves_Minim_F1_F2\",\"val_transmissionWaves_Determin_Minim_F2\", \"Z_value_MutualNotConsindered\"]],\n",
    " \n",
    "[[\"TransmissionWaves_Newton_Harley\",\"_transmissionWaves_Newton_Methode_F1_v3\", \"Z_line_MutualCombinedWithLineParameter\"],\n",
    "[\"TransmissionWaves_Newton_Harley\",\"_transmissionWaves_Newton_Methode_F2_v3\", \"Z_line_MutualCombinedWithLineParameter\"],\n",
    "[\"TransmissionWaves_Newton_Harley\",\"val_transmissionWaves_Newton_Methode_F1_v3\", \"Z_value_MutualNotConsindered\"],\n",
    "[\"TransmissionWaves_Newton_Harley\",\"_transmissionWaves_Halley_Methode_F1_v3\", \"Z_line_MutualCombinedWithLineParameter\"]],\n",
    "\n",
    "[[\"Chen\",\"val_Chen_Methode\", \"Z_value_MutualNotConsindered\"],\n",
    "[\"Chen\",\"Chen_Methode\", \"Z_line_MutualCombinedWithLineParameter\"]],\n",
    " \n",
    "[[\"Reactance_Methode\",\"val_Reactance_methode_Generator\", \"Z_value_MutualNotConsindered\"],\n",
    "[\"Reactance_Methode\",\"val_Reactance_methode_Consumator\", \"Z_value_MutualNotConsindered\"],\n",
    "[\"Reactance_Methode\",\"Reactance_methode_Generator\", \"Z_line_MutualCombinedWithLineParameter\"],\n",
    "[\"Reactance_Methode\",\"Reactance_methode_Consumator\", \"Z_line_MutualCombinedWithLineParameter\"]] ]\n",
    "\n",
    "list_models_2 = [[[\"Z_line_MutualCombinedWithLineParameter\",\"_transmissionWaves_Determin_Minim_F1\", \"Z_line_MutualCombinedWithLineParameter\"],\n",
    "[\"Z_line_MutualCombinedWithLineParameter\",\"_transmissionWaves_Determin_Minim_F2\", \"Z_line_MutualCombinedWithLineParameter\"],\n",
    "[\"Z_line_MutualCombinedWithLineParameter\",\"_transmissionWaves_Halley_Methode_F1_v3\", \"Z_line_MutualCombinedWithLineParameter\"],\n",
    "[\"Z_line_MutualCombinedWithLineParameter\",\"_transmissionWaves_Newton_Methode_F1_v3\", \"Z_line_MutualCombinedWithLineParameter\"],\n",
    "[\"Z_line_MutualCombinedWithLineParameter\",\"_transmissionWaves_Newton_Methode_F2_v3\", \"Z_line_MutualCombinedWithLineParameter\"],\n",
    "[\"Z_line_MutualCombinedWithLineParameter\",\"cuadripol_Determin_Minim_F1\", \"Z_line_MutualCombinedWithLineParameter\"],\n",
    "[\"Z_line_MutualCombinedWithLineParameter\",\"cuadripol_Determin_Minim_F2\", \"Z_line_MutualCombinedWithLineParameter\"],\n",
    "[\"Z_line_MutualCombinedWithLineParameter\",\"Reactance_methode_Generator\", \"Z_line_MutualCombinedWithLineParameter\"],\n",
    "[\"Z_line_MutualCombinedWithLineParameter\",\"Reactance_methode_Consumator\", \"Z_line_MutualCombinedWithLineParameter\"],\n",
    "[\"Z_line_MutualCombinedWithLineParameter\",\"Chen_Methode\", \"Z_line_MutualCombinedWithLineParameter\"]],\n",
    "\n",
    "[[\"Z_DirectSecvence\",\"SD_cuadripol_Determin_Minim_F1\", \"Z_DirectSecvence\"],\n",
    "[\"Z_DirectSecvence\",\"SD_cuadripol_Determin_Minim_F2\", \"Z_DirectSecvence\"],\n",
    "[\"Z_DirectSecvence\",\"SD_transmissionWaves_Determin_Minim_F1\", \"Z_DirectSecvence\"],\n",
    "[\"Z_DirectSecvence\",\"SD_transmissionWaves_Determin_Minim_F2\", \"Z_DirectSecvence\"]],\n",
    "\n",
    "[[\"Z_HomopolarSecvence\",\"SH_cuadripol_Determin_Minim_F1\", \"Z_HomopolarSecvence\"],\n",
    "[\"Z_HomopolarSecvence\",\"SH_cuadripol_Determin_Minim_F2\", \"Z_HomopolarSecvence\"],\n",
    "[\"Z_HomopolarSecvence\",\"SH_transmissionWaves_Determin_Minim_F1\", \"Z_HomopolarSecvence\"],\n",
    "[\"Z_HomopolarSecvence\",\"SH_transmissionWaves_Determin_Minim_F2\", \"Z_HomopolarSecvence\"]],\n",
    "\n",
    "[[\"Z_value_MutualNotConsindered\",\"val_cuadripol_Determin_Minim_F1\", \"Z_value_MutualNotConsindered\"],\n",
    "[\"Z_value_MutualNotConsindered\",\"val_cuadripol_Determin_Minim_F2\", \"Z_value_MutualNotConsindered\"],\n",
    "[\"Z_value_MutualNotConsindered\",\"val_transmissionWaves_Determin_Minim_F1\", \"Z_value_MutualNotConsindered\"],\n",
    "[\"Z_value_MutualNotConsindered\",\"val_transmissionWaves_Determin_Minim_F2\", \"Z_value_MutualNotConsindered\"],\n",
    "[\"Z_value_MutualNotConsindered\",\"val_transmissionWaves_Newton_Methode_F1_v3\", \"Z_value_MutualNotConsindered\"],\n",
    "[\"Z_value_MutualNotConsindered\",\"val_Reactance_methode_Generator\", \"Z_value_MutualNotConsindered\"],\n",
    "[\"Z_value_MutualNotConsindered\",\"val_Reactance_methode_Consumator\", \"Z_value_MutualNotConsindered\"],\n",
    "[\"Z_value_MutualNotConsindered\",\"val_Chen_Methode\", \"Z_value_MutualNotConsindered\"]]]\n"
   ]
  },
  {
   "cell_type": "code",
   "execution_count": null,
   "id": "d42383ba",
   "metadata": {},
   "outputs": [],
   "source": [
    "\n",
    "    \n",
    "        \n",
    "        \n",
    "            isExist = os.path.exists(\"./\" + col + \"/\" + _model)\n",
    "            if not isExist:\n",
    "                os.makedirs(\"./\" + col + \"/\" + _model)\n",
    "                    "
   ]
  },
  {
   "cell_type": "code",
   "execution_count": null,
   "id": "1770e99d",
   "metadata": {},
   "outputs": [],
   "source": [
    "for _model in list_name_models:\n",
    "    aux = data_normal[(data_normal[\"Model\"]==_model)]\n",
    "    if len(aux)>0:\n",
    "        isExist = os.path.exists(\"./\" + _model)\n",
    "        if not isExist:\n",
    "            os.makedirs(\"./\" + _model)\n",
    "            \n",
    "    for col in cols:\n",
    "        dir_name = os.path.join(os.path.join(os.getcwd(),_model), col+'.png')\n",
    "        axis_font = {'size':'14'}\n",
    "        fig, axes = plt.subplots(1, 3, figsize=(18,6))\n",
    "        x = aux[aux[\"Phase\"]==\"A\"][\"Cycle\"]\n",
    "        y1 = aux[aux[\"Phase\"]==\"A\"][col]\n",
    "        y2 = aux[aux[\"Phase\"]==\"B\"][col]\n",
    "        y3 = aux[aux[\"Phase\"]==\"C\"][col]\n",
    "        axes[0].plot(x, y1, label = col)\n",
    "        axes[1].plot(x, y2, label = col)\n",
    "        axes[2].plot(x, y3, label = col)\n",
    "        axes[0].set_title(\"Phase A\")\n",
    "        axes[1].set_title(\"Phase B\")\n",
    "        axes[2].set_title(\"Phase C\")\n",
    "        fig.text(0.5, 0.04, 'Cycle', ha='center', va='center', **axis_font)\n",
    "        fig.text(0.06, 0.5, col, ha='center', va='center', rotation='vertical', **axis_font)\n",
    "        plt.savefig(dir_name, bbox_inches=\"tight\")\n",
    "        plt.close() "
   ]
  },
  {
   "cell_type": "code",
   "execution_count": null,
   "id": "32f58998",
   "metadata": {},
   "outputs": [],
   "source": [
    "for _model in list_name_models:\n",
    "    aux = data_normal[(data_normal[\"Model\"]==_model)]\n",
    "    if len(aux)>0:\n",
    "        isExist = os.path.exists(\"./\" + _model)\n",
    "        if not isExist:\n",
    "            os.makedirs(\"./\" + _model)\n",
    "            \n",
    "    for col in cols:\n",
    "        dir_name = os.path.join(os.path.join(os.getcwd(),_model), col+'.png')\n",
    "        axis_font = {'size':'14'}\n",
    "        fig, axes = plt.subplots(1, 1, figsize=(6,6))\n",
    "        x = aux[aux[\"Phase\"]==\"A\"][\"Cycle\"]\n",
    "        y1 = aux[aux[\"Phase\"]==\"A\"][col]\n",
    "        y2 = aux[aux[\"Phase\"]==\"B\"][col]\n",
    "        y3 = aux[aux[\"Phase\"]==\"C\"][col]\n",
    "        axes.plot(x, y1, label = \"Phase A\")\n",
    "        axes.plot(x, y2, label = \"Phase B\")\n",
    "        axes.plot(x, y3, label = \"Phase C\")\n",
    "        fig.text(0.5, 0.04, 'Cycle', ha='center', va='center', **axis_font)\n",
    "        fig.text(0.01, 0.5, col, ha='center', va='center', rotation='vertical', **axis_font)\n",
    "        fig.legend(loc='center right', bbox_to_anchor=(1.2, 0.5))\n",
    "        plt.savefig(dir_name, bbox_inches=\"tight\")\n",
    "        plt.close() "
   ]
  },
  {
   "cell_type": "code",
   "execution_count": null,
   "id": "d225ed71",
   "metadata": {},
   "outputs": [],
   "source": [
    "for col in cols:\n",
    "    for _ph in list_phase:\n",
    "        aux = data_normal[(data_normal[\"Phase\"]==_ph)]\n",
    "        if len(aux)>0:\n",
    "            for grup in list_models_1:\n",
    "                axis_font = {'size':'14'}\n",
    "                fig, axes = plt.subplots(len(grup), 1, figsize=(6,6*len(grup)))\n",
    "                _ind = 0\n",
    "                for name, mod, z in grup:\n",
    "                    isExist = os.path.exists(\"./\" + col + \"/\" +_ph)\n",
    "                    if not isExist:\n",
    "                        os.makedirs(\"./\" + col + \"/\" +_ph) \n",
    "                    dir_name = os.path.join(os.path.join( os.path.join(os.getcwd(),col), _ph) , str(name)+'.png')\n",
    "                    x = list(range(10,20))\n",
    "                    y = aux[(aux[\"Model\"]==mod)][col]\n",
    "                    axes[_ind].plot(x, y)\n",
    "                    axes[_ind].set_title(mod)\n",
    "                    _ind = _ind+1\n",
    "                fig.text(0.5, 0.04, 'Cycle', ha='center', va='center', **axis_font)\n",
    "                fig.text(0, 0.5, col, ha='center', va='center', rotation='vertical', **axis_font)\n",
    "                plt.savefig(dir_name, bbox_inches=\"tight\")\n",
    "                plt.close()"
   ]
  },
  {
   "cell_type": "code",
   "execution_count": null,
   "id": "861da843",
   "metadata": {},
   "outputs": [],
   "source": []
  },
  {
   "cell_type": "code",
   "execution_count": null,
   "id": "4d861738",
   "metadata": {},
   "outputs": [],
   "source": []
  },
  {
   "cell_type": "code",
   "execution_count": null,
   "id": "915fa021",
   "metadata": {},
   "outputs": [],
   "source": []
  },
  {
   "cell_type": "code",
   "execution_count": null,
   "id": "7cb1da71",
   "metadata": {},
   "outputs": [],
   "source": []
  },
  {
   "cell_type": "code",
   "execution_count": null,
   "id": "03515da7",
   "metadata": {},
   "outputs": [],
   "source": []
  },
  {
   "cell_type": "code",
   "execution_count": null,
   "id": "8ec82af8",
   "metadata": {},
   "outputs": [],
   "source": []
  },
  {
   "cell_type": "code",
   "execution_count": null,
   "id": "073a79cb",
   "metadata": {},
   "outputs": [],
   "source": []
  },
  {
   "cell_type": "code",
   "execution_count": null,
   "id": "48d2e2a8",
   "metadata": {},
   "outputs": [],
   "source": []
  },
  {
   "cell_type": "code",
   "execution_count": null,
   "id": "2ee5b933",
   "metadata": {},
   "outputs": [],
   "source": []
  }
 ],
 "metadata": {
  "kernelspec": {
   "display_name": "Python 3 (ipykernel)",
   "language": "python",
   "name": "python3"
  },
  "language_info": {
   "codemirror_mode": {
    "name": "ipython",
    "version": 3
   },
   "file_extension": ".py",
   "mimetype": "text/x-python",
   "name": "python",
   "nbconvert_exporter": "python",
   "pygments_lexer": "ipython3",
   "version": "3.11.5"
  }
 },
 "nbformat": 4,
 "nbformat_minor": 5
}
