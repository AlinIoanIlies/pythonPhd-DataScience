{
 "cells": [
  {
   "cell_type": "code",
   "execution_count": null,
   "id": "4cb201eb",
   "metadata": {},
   "outputs": [],
   "source": [
    "import pandas as pd\n",
    "import numpy as np\n",
    "import matplotlib.pyplot as plt\n",
    "%matplotlib inline\n",
    "import seaborn as sns\n",
    "import os\n",
    "\n",
    "import path\n",
    "import math\n",
    "import cmath\n",
    "import shutil\n",
    "import pywt\n",
    "import csv"
   ]
  },
  {
   "cell_type": "code",
   "execution_count": null,
   "id": "5d59b767",
   "metadata": {},
   "outputs": [],
   "source": [
    "data_pred_5 = pd.read_excel('Error_Compute_withTip.xlsx',sheet_name='Error_5')\n",
    "data_pred_10 = pd.read_excel('Error_Compute_withTip.xlsx',sheet_name='Error_10')"
   ]
  },
  {
   "cell_type": "code",
   "execution_count": null,
   "id": "a3e30747",
   "metadata": {},
   "outputs": [],
   "source": [
    "allModels = list(data_pred_5[\"name\"].unique())\n",
    "allType = list(data_pred_5[\"Type\"].unique())\n",
    "allPhase = list(data_pred_5[\"Phase\"].unique())"
   ]
  },
  {
   "cell_type": "code",
   "execution_count": null,
   "id": "51d58494",
   "metadata": {},
   "outputs": [],
   "source": [
    "#data = data_pred_5\n",
    "#dirName = 'data_pred_5'\n",
    "#title = \"Error_5\"\n",
    "data = data_pred_10\n",
    "dirName = 'data_pred_10'\n",
    "title = \"Error_10\""
   ]
  },
  {
   "cell_type": "code",
   "execution_count": null,
   "id": "e2fa80b5",
   "metadata": {},
   "outputs": [],
   "source": [
    "for _model in allModels:\n",
    "    for _type in allType:\n",
    "        _aux = data[(data[\"name\"]==str(_model)) \n",
    "                        & (data[\"Type\"]==str(_type)) \n",
    "                        ]\n",
    "        if len(_aux)>0:\n",
    "            outputDir = os.path.join(os.path.join(os.getcwd(), str(_model)),str(_type))\n",
    "            isExist = os.path.exists(outputDir)\n",
    "            if not isExist:\n",
    "                os.makedirs(outputDir)\n",
    "            x = range(10,20)\n",
    "            l1 = list()\n",
    "            l2 = list()\n",
    "            l3 = list()\n",
    "            for _n in x:\n",
    "                l1.append(float(_aux[(_aux[\"Phase\"]==\"A\")][_n]))\n",
    "                l2.append(float(_aux[(_aux[\"Phase\"]==\"B\")][_n]))\n",
    "                l3.append(float(_aux[(_aux[\"Phase\"]==\"C\")][_n]))\n",
    "            axis_font = {'size':'14'}\n",
    "            fig, axes = plt.subplots(1, 1, figsize=(6,6))\n",
    "            axes.plot(x, l1, label = \"Phase A\")\n",
    "            axes.plot(x, l2, label = \"Phase B\")\n",
    "            axes.plot(x, l3, label = \"Phase C\")\n",
    "            axes.set_title('Type: ' + str(_type) +'\\n'+str(title))\n",
    "            plt.xlabel('#No. Cycles')\n",
    "            plt.ylabel(str(title))\n",
    "            fig.legend(loc='center right', bbox_to_anchor=(1.2, 0.5))\n",
    "            \n",
    "            fig.savefig(os.path.join(outputDir,str(title)+'.png'), bbox_inches=\"tight\")\n",
    "            \n",
    "            plt.clf()\n",
    "            plt.close()"
   ]
  },
  {
   "cell_type": "code",
   "execution_count": null,
   "id": "ccd79850",
   "metadata": {},
   "outputs": [],
   "source": [
    "allPhase"
   ]
  },
  {
   "cell_type": "code",
   "execution_count": null,
   "id": "fa88d59a",
   "metadata": {},
   "outputs": [],
   "source": [
    "data_pred_5[(data_pred_5[\"Phase\"]==\"A\")][10]"
   ]
  },
  {
   "cell_type": "code",
   "execution_count": null,
   "id": "dab4a3cf",
   "metadata": {},
   "outputs": [],
   "source": []
  },
  {
   "cell_type": "code",
   "execution_count": null,
   "id": "18470fee",
   "metadata": {},
   "outputs": [],
   "source": []
  },
  {
   "cell_type": "code",
   "execution_count": null,
   "id": "5ca5be95",
   "metadata": {},
   "outputs": [],
   "source": []
  }
 ],
 "metadata": {
  "kernelspec": {
   "display_name": "Python 3 (ipykernel)",
   "language": "python",
   "name": "python3"
  },
  "language_info": {
   "codemirror_mode": {
    "name": "ipython",
    "version": 3
   },
   "file_extension": ".py",
   "mimetype": "text/x-python",
   "name": "python",
   "nbconvert_exporter": "python",
   "pygments_lexer": "ipython3",
   "version": "3.11.5"
  }
 },
 "nbformat": 4,
 "nbformat_minor": 5
}
