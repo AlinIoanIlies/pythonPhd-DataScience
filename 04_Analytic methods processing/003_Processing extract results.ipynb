{
 "cells": [
  {
   "cell_type": "code",
   "execution_count": null,
   "id": "89ee7d54",
   "metadata": {},
   "outputs": [],
   "source": [
    "import cmath\n",
    "import math\n",
    "import numpy as np\n",
    "import pandas as pd\n",
    "import numpy as np\n",
    "import matplotlib.pyplot as plt\n",
    "%matplotlib inline\n",
    "import seaborn as sns\n",
    "import os\n",
    "from sklearn import metrics"
   ]
  },
  {
   "cell_type": "code",
   "execution_count": null,
   "id": "33e7674e",
   "metadata": {},
   "outputs": [],
   "source": [
    "data_normal = pd.read_excel('Rezultate_v2.xlsx',sheet_name='normal_value')"
   ]
  },
  {
   "cell_type": "code",
   "execution_count": null,
   "id": "56868b81",
   "metadata": {},
   "outputs": [],
   "source": [
    "list_name_models = list(data_normal[\"name\"].unique())\n",
    "list_name_Group = list(data_normal[\"Nume_Grup\"].unique())\n",
    "list_Simulation_Name = list(data_normal[\"Simulation_name\"].unique())\n",
    "list_columns_studied = [[\"Cycle_10.png\",\"A_10\",\"B_10\",\"C_10\"], [\"Cycle_11.png\",\"A_11\",\"B_11\",\"C_11\"]\n",
    "            , [\"Cycle_12.png\",\"A_12\",\"B_12\",\"C_12\"], [\"Cycle_13.png\",\"A_13\",\"B_13\",\"C_13\"]\n",
    "            , [\"Cycle_14.png\",\"A_14\",\"B_14\",\"C_14\"], [\"Cycle_15.png\",\"A_15\",\"B_15\",\"C_15\"]\n",
    "            , [\"Cycle_16.png\",\"A_16\",\"B_16\",\"C_16\"], [\"Cycle_17.png\",\"A_17\",\"B_17\",\"C_17\"]\n",
    "            , [\"Cycle_18.png\",\"A_18\",\"B_18\",\"C_18\"], [\"Cycle_19.png\",\"A_19\",\"B_19\",\"C_19\"]]\n",
    "list_columns_results = [\"A_10\",\"B_10\",\"C_10\", \"A_11\", \"B_11\", \"C_11\", \"A_12\", \"B_12\", \"C_12\", \"A_13\", \"B_13\", \"C_13\", \"A_14\",\"B_14\",\"C_14\"\n",
    ", \"A_15\",\"B_15\",\"C_15\",\"A_16\",\"B_16\",\"C_16\", \"A_17\", \"B_17\", \"C_17\", \"A_18\", \"B_18\", \"C_18\", \"A_19\", \"B_19\", \"C_19\"]"
   ]
  },
  {
   "cell_type": "code",
   "execution_count": null,
   "id": "182bcfff",
   "metadata": {},
   "outputs": [],
   "source": [
    "list_name_models[19:]"
   ]
  },
  {
   "cell_type": "code",
   "execution_count": null,
   "id": "48c6fa5b",
   "metadata": {},
   "outputs": [],
   "source": [
    "list_name_Group"
   ]
  },
  {
   "cell_type": "code",
   "execution_count": null,
   "id": "6abc6dfc",
   "metadata": {},
   "outputs": [],
   "source": [
    "for _model in list_name_models[19:]:\n",
    "    for _grup in list_name_Group:\n",
    "        for _sim in list_Simulation_Name:\n",
    "            aux = data_normal[(data_normal[\"name\"]==_model) & \n",
    "            (data_normal[\"Nume_Grup\"]==_grup) &\n",
    "            (data_normal[\"Simulation_name\"]==_sim)]\n",
    "            if len(aux)>0:\n",
    "                isExist = os.path.exists(\"./\" + _model + \"/\" +_grup + '/' + _sim)\n",
    "                if not isExist:\n",
    "                    os.makedirs(\"./\" + _model + \"/\" +_grup + '/' + _sim)\n",
    "                for _gCols in list_columns_studied:\n",
    "                    dir_name = os.path.join(os.path.join( os.path.join( os.path.join(os.getcwd(),_model), _grup), _sim), str(_gCols[0]))\n",
    "                    \n",
    "                    axis_font = {'size':'14'}\n",
    "                    fig, axes = plt.subplots(1, 3, figsize=(18,6))\n",
    "                    x = aux[\"FaultLocation_FromGenerator\"]\n",
    "                    y1 = aux[_gCols[1]]\n",
    "                    y2 = aux[_gCols[2]]\n",
    "                    y3 = aux[_gCols[3]]\n",
    "                    axes[0].plot(x, y1, label = \"Computed Fault Distance\")\n",
    "                    axes[0].plot(x,x, '--', label = \"Actual Fault Distance\")\n",
    "                    axes[1].plot(x, y2, label = \"Computed Fault Distance\")\n",
    "                    axes[1].plot(x,x, '--', label = \"Actual Fault Distance\")\n",
    "                    axes[2].plot(x, y3, label = \"Computed Fault Distance\")\n",
    "                    axes[2].plot(x,x, '--', label = \"Actual Fault Distance\")\n",
    "                    axes[0].set_title(\"Phase A\")\n",
    "                    axes[1].set_title(\"Phase B\")\n",
    "                    axes[2].set_title(\"Phase C\")\n",
    "                    fig.text(0.5, 0.04, 'Actual Fault Distance', ha='center', va='center', **axis_font)\n",
    "                    fig.text(0.06, 0.5, 'Computed Fault Distance', ha='center', va='center', rotation='vertical', **axis_font)\n",
    "                    lines_labels = [ax.get_legend_handles_labels() for ax in fig.axes]\n",
    "                    lines, labels = [sum(lol, []) for lol in zip(*lines_labels)]\n",
    "                    fig.legend(lines[0:2], labels[0:2], loc='upper center', ncol=4)\n",
    "                    plt.savefig(dir_name)\n",
    "                    plt.close()                    \n",
    "                    \n",
    "                    #print([_model, \" \", _grup, \" \", _sim, \" \", _gCols])"
   ]
  },
  {
   "cell_type": "code",
   "execution_count": null,
   "id": "89cf8d35",
   "metadata": {},
   "outputs": [],
   "source": []
  },
  {
   "cell_type": "code",
   "execution_count": null,
   "id": "315e1f39",
   "metadata": {},
   "outputs": [],
   "source": [
    "aux = data_normal[(data_normal[\"name\"]==\"_transmissionWaves_Determin_Minim_F1\") & \n",
    "            (data_normal[\"Nume_Grup\"]==\"tema 1_20kV_sarcina rezistiva\") &\n",
    "            (data_normal[\"Simulation_name\"]==\"1 Scurtcircuit_monofazat_A_ground\")]"
   ]
  },
  {
   "cell_type": "code",
   "execution_count": null,
   "id": "3c68c3a1",
   "metadata": {},
   "outputs": [],
   "source": [
    "l1=[\"FaultLocation_FromGenerator\"] +  list_columns[0][1:]\n"
   ]
  },
  {
   "cell_type": "code",
   "execution_count": null,
   "id": "84d79321",
   "metadata": {},
   "outputs": [],
   "source": [
    "list_columns[0][1]"
   ]
  },
  {
   "cell_type": "code",
   "execution_count": null,
   "id": "d17178c9",
   "metadata": {},
   "outputs": [],
   "source": [
    "axis_font = {'size':'14'}\n",
    "fig, axes = plt.subplots(3, 1, figsize=(6,18))\n",
    "x = aux[\"FaultLocation_FromGenerator\"]\n",
    "y1 = aux[list_columns[0][1]]\n",
    "y2 = aux[list_columns[0][2]]\n",
    "y3 = aux[list_columns[0][3]]\n",
    "axes[0].plot(x, y1, label = \"Computed Fault Distance\")\n",
    "axes[0].plot(x,x, '--', label = \"Actual Fault Distance\")\n",
    "axes[1].plot(x, y2, label = \"Computed Fault Distance\")\n",
    "axes[1].plot(x,x, '--', label = \"Actual Fault Distance\")\n",
    "axes[2].plot(x, y3, label = \"Computed Fault Distance\")\n",
    "axes[2].plot(x,x, '--', label = \"Actual Fault Distance\")\n",
    "axes[0].set_title(\"Phase A\")\n",
    "axes[1].set_title(\"Phase B\")\n",
    "axes[2].set_title(\"Phase C\")\n",
    "fig.text(0.5, 0.05, 'Actual Fault Distance', ha='center', va='center', **axis_font)\n",
    "fig.text(0.01, 0.5, 'Computed Fault Distance', ha='center', va='center', rotation='vertical', **axis_font)\n",
    "lines_labels = [ax.get_legend_handles_labels() for ax in fig.axes]\n",
    "lines, labels = [sum(lol, []) for lol in zip(*lines_labels)]\n",
    "fig.legend(lines[0:2], labels[0:2], loc='center right', ncol=1, bbox_to_anchor=(1.4, 0.5))\n",
    "#plt.savefig(\"test.png\")\n",
    "#plt.close()"
   ]
  },
  {
   "cell_type": "code",
   "execution_count": null,
   "id": "752e3d97",
   "metadata": {},
   "outputs": [],
   "source": []
  },
  {
   "cell_type": "code",
   "execution_count": null,
   "id": "79f53207",
   "metadata": {},
   "outputs": [],
   "source": [
    "data_normal_2 = pd.read_excel('Rezultate_v2.xlsx',sheet_name='DirectComponent')\n",
    "list_name_models_2 = [\"DirectComponent_Chen_Methode\",\"DirectComponent_ImpedanceGenerator\",\"DirectComponent_ImpedanceConsumator\"]\n",
    "list_columns_results_2=[10,11,12,13,14,15,16,17,18,19]\n",
    "result = [[\"Model\",\"Phase_Cycle\",\"Mean_Absolute_Error\",\"Mean_Squared_Error\",\"Root_Mean_Squared_Error\"]]\n",
    "for _model in list_name_models_2:\n",
    "    aux = data_normal_2[(data_normal_2[\"name\"]==_model)]\n",
    "    real_value = aux[\"FaultLocation_FromGenerator\"]\n",
    "    if len(aux)>0:\n",
    "        for _col in list_columns_results_2:\n",
    "            pred_value = aux[_col]\n",
    "            item = [_model, _col, metrics.mean_absolute_error(real_value,pred_value)\n",
    "                    , metrics.mean_squared_error(real_value,pred_value)\n",
    "                    , np.sqrt(metrics.mean_squared_error(real_value,pred_value))]\n",
    "            result.append(item)\n",
    "data_result2 = pd.DataFrame(result[1:],\n",
    "                   columns=result[0])\n",
    "data_result2.to_csv(\"Result_Analisys_AnalyticMethode_2.csv\")"
   ]
  },
  {
   "cell_type": "code",
   "execution_count": null,
   "id": "390ba5fd",
   "metadata": {},
   "outputs": [],
   "source": []
  },
  {
   "cell_type": "code",
   "execution_count": null,
   "id": "c5f1979f",
   "metadata": {},
   "outputs": [],
   "source": [
    "result = [[\"Model\",\"Phase_Cycle\",\"Mean_Absolute_Error\",\"Mean_Squared_Error\",\"Root_Mean_Squared_Error\"]]\n",
    "for _model in list_name_models:\n",
    "    aux = data_normal[(data_normal[\"name\"]==_model)]\n",
    "    real_value = aux[\"FaultLocation_FromGenerator\"]\n",
    "    if len(aux)>0:\n",
    "        for _col in list_columns_results:\n",
    "            pred_value = aux[_col]\n",
    "            item = [_model, _col, metrics.mean_absolute_error(real_value,pred_value)\n",
    "                    , metrics.mean_squared_error(real_value,pred_value)\n",
    "                    , np.sqrt(metrics.mean_squared_error(real_value,pred_value))]\n",
    "            result.append(item)\n"
   ]
  },
  {
   "cell_type": "code",
   "execution_count": null,
   "id": "9a1f7fb6",
   "metadata": {},
   "outputs": [],
   "source": [
    "data_result = pd.DataFrame(result[1:],\n",
    "                   columns=result[0])"
   ]
  },
  {
   "cell_type": "code",
   "execution_count": null,
   "id": "5516ac43",
   "metadata": {},
   "outputs": [],
   "source": [
    "data_result.to_csv(\"Result_Analisys_AnalyticMethode.csv\")"
   ]
  },
  {
   "cell_type": "code",
   "execution_count": null,
   "id": "e78dfe8f",
   "metadata": {},
   "outputs": [],
   "source": [
    "list_models_1 = [ [[\"cuadripol\",\"cuadripol_Determin_Minim_F1\", \"Z_line_MutualCombinedWithLineParameter\"],\n",
    "[\"cuadripol\",\"cuadripol_Determin_Minim_F2\", \"Z_line_MutualCombinedWithLineParameter\"],\n",
    "[\"cuadripol\",\"SD_cuadripol_Determin_Minim_F1\", \"Z_DirectSecvence\"],\n",
    "[\"cuadripol\",\"SD_cuadripol_Determin_Minim_F2\", \"Z_DirectSecvence\"],\n",
    "[\"cuadripol\",\"SH_cuadripol_Determin_Minim_F1\", \"Z_HomopolarSecvence\"],\n",
    "[\"cuadripol\",\"SH_cuadripol_Determin_Minim_F2\", \"Z_HomopolarSecvence\"],\n",
    "[\"cuadripol\",\"val_cuadripol_Determin_Minim_F1\", \"Z_value_MutualNotConsindered\"],\n",
    "[\"cuadripol\",\"val_cuadripol_Determin_Minim_F2\", \"Z_value_MutualNotConsindered\"]], \n",
    "\n",
    "[[\"TransmissionWaves_Minim_F1_F2\",\"_transmissionWaves_Determin_Minim_F1\", \"Z_line_MutualCombinedWithLineParameter\"],\n",
    "[\"TransmissionWaves_Minim_F1_F2\",\"_transmissionWaves_Determin_Minim_F2\", \"Z_line_MutualCombinedWithLineParameter\"],\n",
    "[\"TransmissionWaves_Minim_F1_F2\",\"SD_transmissionWaves_Determin_Minim_F1\", \"Z_DirectSecvence\"],\n",
    "[\"TransmissionWaves_Minim_F1_F2\",\"SD_transmissionWaves_Determin_Minim_F2\", \"Z_DirectSecvence\"],\n",
    "[\"TransmissionWaves_Minim_F1_F2\",\"SH_transmissionWaves_Determin_Minim_F1\", \"Z_HomopolarSecvence\"],\n",
    "[\"TransmissionWaves_Minim_F1_F2\",\"SH_transmissionWaves_Determin_Minim_F2\", \"Z_HomopolarSecvence\"],\n",
    "[\"TransmissionWaves_Minim_F1_F2\",\"val_transmissionWaves_Determin_Minim_F1\", \"Z_value_MutualNotConsindered\"],\n",
    "[\"TransmissionWaves_Minim_F1_F2\",\"val_transmissionWaves_Determin_Minim_F2\", \"Z_value_MutualNotConsindered\"]],\n",
    " \n",
    "[[\"TransmissionWaves_Newton_Harley\",\"_transmissionWaves_Newton_Methode_F1_v3\", \"Z_line_MutualCombinedWithLineParameter\"],\n",
    "[\"TransmissionWaves_Newton_Harley\",\"_transmissionWaves_Newton_Methode_F2_v3\", \"Z_line_MutualCombinedWithLineParameter\"],\n",
    "[\"TransmissionWaves_Newton_Harley\",\"val_transmissionWaves_Newton_Methode_F1_v3\", \"Z_value_MutualNotConsindered\"],\n",
    "[\"TransmissionWaves_Newton_Harley\",\"_transmissionWaves_Halley_Methode_F1_v3\", \"Z_line_MutualCombinedWithLineParameter\"]],\n",
    "\n",
    "[[\"Chen\",\"val_Chen_Methode\", \"Z_value_MutualNotConsindered\"],\n",
    "[\"Chen\",\"Chen_Methode\", \"Z_line_MutualCombinedWithLineParameter\"]],\n",
    " \n",
    "[[\"Reactance_Methode\",\"val_Reactance_methode_Generator\", \"Z_value_MutualNotConsindered\"],\n",
    "[\"Reactance_Methode\",\"val_Reactance_methode_Consumator\", \"Z_value_MutualNotConsindered\"],\n",
    "[\"Reactance_Methode\",\"Reactance_methode_Generator\", \"Z_line_MutualCombinedWithLineParameter\"],\n",
    "[\"Reactance_Methode\",\"Reactance_methode_Consumator\", \"Z_line_MutualCombinedWithLineParameter\"]] ]\n",
    "\n",
    "list_models_2 = [[[\"Z_line_MutualCombinedWithLineParameter\",\"_transmissionWaves_Determin_Minim_F1\", \"Z_line_MutualCombinedWithLineParameter\"],\n",
    "[\"Z_line_MutualCombinedWithLineParameter\",\"_transmissionWaves_Determin_Minim_F2\", \"Z_line_MutualCombinedWithLineParameter\"],\n",
    "[\"Z_line_MutualCombinedWithLineParameter\",\"_transmissionWaves_Halley_Methode_F1_v3\", \"Z_line_MutualCombinedWithLineParameter\"],\n",
    "[\"Z_line_MutualCombinedWithLineParameter\",\"_transmissionWaves_Newton_Methode_F1_v3\", \"Z_line_MutualCombinedWithLineParameter\"],\n",
    "[\"Z_line_MutualCombinedWithLineParameter\",\"_transmissionWaves_Newton_Methode_F2_v3\", \"Z_line_MutualCombinedWithLineParameter\"],\n",
    "[\"Z_line_MutualCombinedWithLineParameter\",\"cuadripol_Determin_Minim_F1\", \"Z_line_MutualCombinedWithLineParameter\"],\n",
    "[\"Z_line_MutualCombinedWithLineParameter\",\"cuadripol_Determin_Minim_F2\", \"Z_line_MutualCombinedWithLineParameter\"],\n",
    "[\"Z_line_MutualCombinedWithLineParameter\",\"Reactance_methode_Generator\", \"Z_line_MutualCombinedWithLineParameter\"],\n",
    "[\"Z_line_MutualCombinedWithLineParameter\",\"Reactance_methode_Consumator\", \"Z_line_MutualCombinedWithLineParameter\"],\n",
    "[\"Z_line_MutualCombinedWithLineParameter\",\"Chen_Methode\", \"Z_line_MutualCombinedWithLineParameter\"]],\n",
    "\n",
    "[[\"Z_DirectSecvence\",\"SD_cuadripol_Determin_Minim_F1\", \"Z_DirectSecvence\"],\n",
    "[\"Z_DirectSecvence\",\"SD_cuadripol_Determin_Minim_F2\", \"Z_DirectSecvence\"],\n",
    "[\"Z_DirectSecvence\",\"SD_transmissionWaves_Determin_Minim_F1\", \"Z_DirectSecvence\"],\n",
    "[\"Z_DirectSecvence\",\"SD_transmissionWaves_Determin_Minim_F2\", \"Z_DirectSecvence\"]],\n",
    "\n",
    "[[\"Z_HomopolarSecvence\",\"SH_cuadripol_Determin_Minim_F1\", \"Z_HomopolarSecvence\"],\n",
    "[\"Z_HomopolarSecvence\",\"SH_cuadripol_Determin_Minim_F2\", \"Z_HomopolarSecvence\"],\n",
    "[\"Z_HomopolarSecvence\",\"SH_transmissionWaves_Determin_Minim_F1\", \"Z_HomopolarSecvence\"],\n",
    "[\"Z_HomopolarSecvence\",\"SH_transmissionWaves_Determin_Minim_F2\", \"Z_HomopolarSecvence\"]],\n",
    "\n",
    "[[\"Z_value_MutualNotConsindered\",\"val_cuadripol_Determin_Minim_F1\", \"Z_value_MutualNotConsindered\"],\n",
    "[\"Z_value_MutualNotConsindered\",\"val_cuadripol_Determin_Minim_F2\", \"Z_value_MutualNotConsindered\"],\n",
    "[\"Z_value_MutualNotConsindered\",\"val_transmissionWaves_Determin_Minim_F1\", \"Z_value_MutualNotConsindered\"],\n",
    "[\"Z_value_MutualNotConsindered\",\"val_transmissionWaves_Determin_Minim_F2\", \"Z_value_MutualNotConsindered\"],\n",
    "[\"Z_value_MutualNotConsindered\",\"val_transmissionWaves_Newton_Methode_F1_v3\", \"Z_value_MutualNotConsindered\"],\n",
    "[\"Z_value_MutualNotConsindered\",\"val_Reactance_methode_Generator\", \"Z_value_MutualNotConsindered\"],\n",
    "[\"Z_value_MutualNotConsindered\",\"val_Reactance_methode_Consumator\", \"Z_value_MutualNotConsindered\"],\n",
    "[\"Z_value_MutualNotConsindered\",\"val_Chen_Methode\", \"Z_value_MutualNotConsindered\"]]]"
   ]
  },
  {
   "cell_type": "code",
   "execution_count": null,
   "id": "2295f7e5",
   "metadata": {},
   "outputs": [],
   "source": [
    "list_columns_results[21:]"
   ]
  },
  {
   "cell_type": "code",
   "execution_count": null,
   "id": "8319c79c",
   "metadata": {},
   "outputs": [],
   "source": [
    "for _gCols in list_columns_results[21:]:\n",
    "    for _grup in list_name_Group:\n",
    "        for _sim in list_Simulation_Name:\n",
    "            aux = data_normal[\n",
    "            (data_normal[\"Nume_Grup\"]==_grup) &\n",
    "            (data_normal[\"Simulation_name\"]==_sim)]\n",
    "            if len(aux)>0:\n",
    "                for grup in list_models_1:\n",
    "                    axis_font = {'size':'14'}\n",
    "                    fig, axes = plt.subplots(len(grup), 1, figsize=(6,6*len(grup)))\n",
    "                    _ind = 0\n",
    "                    for name, mod, z in grup:\n",
    "                        isExist = os.path.exists(\"./\" + _gCols + \"/\" +_grup + '/' + _sim)\n",
    "                        if not isExist:\n",
    "                            os.makedirs(\"./\" + _gCols + \"/\" +_grup + '/' + _sim)\n",
    "                        dir_name = os.path.join(os.path.join( os.path.join( os.path.join(os.getcwd(),_gCols), _grup), _sim), str(name)+'.png')\n",
    "                        y = aux[(aux[\"name\"]==mod)][_gCols]\n",
    "                        x = aux[(aux[\"name\"]==mod)][\"FaultLocation_FromGenerator\"]\n",
    "                        axes[_ind].plot(x, y, label = \"Computed Fault Distance\")\n",
    "                        axes[_ind].plot(x,x, '--', label = \"Actual Fault Distance\")\n",
    "                        axes[_ind].set_title(mod)\n",
    "                        \n",
    "                        _ind = _ind+1\n",
    "                    fig.text(0.5, 0.05, 'Actual Fault Distance', ha='center', va='center', **axis_font)\n",
    "                    fig.text(0.01, 0.5, 'Computed Fault Distance', ha='center', va='center', rotation='vertical', **axis_font)\n",
    "                    lines_labels = [ax.get_legend_handles_labels() for ax in fig.axes]\n",
    "                    lines, labels = [sum(lol, []) for lol in zip(*lines_labels)]\n",
    "                    fig.legend(lines[0:2], labels[0:2], loc='center right', ncol=1, bbox_to_anchor=(1.4, 0.5))\n",
    "                    plt.savefig(dir_name, bbox_inches=\"tight\")\n",
    "                    plt.close()"
   ]
  },
  {
   "cell_type": "code",
   "execution_count": null,
   "id": "14e5d1c3",
   "metadata": {},
   "outputs": [],
   "source": [
    "for _gCols in list_columns_results[16:]:\n",
    "    for _grup in list_name_Group:\n",
    "        for _sim in list_Simulation_Name:\n",
    "            aux = data_normal[\n",
    "            (data_normal[\"Nume_Grup\"]==_grup) &\n",
    "            (data_normal[\"Simulation_name\"]==_sim)]\n",
    "            if len(aux)>0:\n",
    "                for grup in list_models_2:\n",
    "                    axis_font = {'size':'14'}\n",
    "                    fig, axes = plt.subplots(len(grup), 1, figsize=(6,6*len(grup)))\n",
    "                    _ind = 0\n",
    "                    for name, mod, z in grup:\n",
    "                        isExist = os.path.exists(\"./\" + _gCols + \"/\" +_grup + '/' + _sim)\n",
    "                        if not isExist:\n",
    "                            os.makedirs(\"./\" + _gCols + \"/\" +_grup + '/' + _sim)\n",
    "                        dir_name = os.path.join(os.path.join( os.path.join( os.path.join(os.getcwd(),_gCols), _grup), _sim), str(name)+'.png')\n",
    "                        y = aux[(aux[\"name\"]==mod)][_gCols]\n",
    "                        x = aux[(aux[\"name\"]==mod)][\"FaultLocation_FromGenerator\"]\n",
    "                        axes[_ind].plot(x, y, label = \"Computed Fault Distance\")\n",
    "                        axes[_ind].plot(x,x, '--', label = \"Actual Fault Distance\")\n",
    "                        axes[_ind].set_title(mod)\n",
    "                        \n",
    "                        _ind = _ind+1\n",
    "                    fig.text(0.5, 0.05, 'Actual Fault Distance', ha='center', va='center', **axis_font)\n",
    "                    fig.text(0.01, 0.5, 'Computed Fault Distance', ha='center', va='center', rotation='vertical', **axis_font)\n",
    "                    lines_labels = [ax.get_legend_handles_labels() for ax in fig.axes]\n",
    "                    lines, labels = [sum(lol, []) for lol in zip(*lines_labels)]\n",
    "                    fig.legend(lines[0:2], labels[0:2], loc='center right', ncol=1, bbox_to_anchor=(1.4, 0.5))\n",
    "                    plt.savefig(dir_name, bbox_inches=\"tight\")\n",
    "                    plt.close()"
   ]
  },
  {
   "cell_type": "code",
   "execution_count": null,
   "id": "5bfbdf07",
   "metadata": {},
   "outputs": [],
   "source": [
    "list_columns_results[0:16]"
   ]
  },
  {
   "cell_type": "code",
   "execution_count": null,
   "id": "85e73e30",
   "metadata": {},
   "outputs": [],
   "source": [
    "list_columns_results[16:]"
   ]
  },
  {
   "cell_type": "code",
   "execution_count": null,
   "id": "9d27e48c",
   "metadata": {},
   "outputs": [],
   "source": []
  }
 ],
 "metadata": {
  "kernelspec": {
   "display_name": "Python 3 (ipykernel)",
   "language": "python",
   "name": "python3"
  },
  "language_info": {
   "codemirror_mode": {
    "name": "ipython",
    "version": 3
   },
   "file_extension": ".py",
   "mimetype": "text/x-python",
   "name": "python",
   "nbconvert_exporter": "python",
   "pygments_lexer": "ipython3",
   "version": "3.11.5"
  }
 },
 "nbformat": 4,
 "nbformat_minor": 5
}
